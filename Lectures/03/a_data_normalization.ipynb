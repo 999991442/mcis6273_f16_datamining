{
 "cells": [
  {
   "cell_type": "markdown",
   "metadata": {},
   "source": [
    "## STRUCTURED DATA NORMALIZATION AND STANDARIZATION"
   ]
  },
  {
   "cell_type": "markdown",
   "metadata": {},
   "source": [
    "Often it is important to standardize and normalize numeric data so that you can compare two numeric data that may not be of the same scale.  Take for example, temperature data.  If one compares Celcius to Farenheit temperatures purely on a numeric scale, Farenheit will appear to be larger, and in some cases may lead to misleading results when trying to make a decision as to which temperatures are warmer, colder, larger or smaller.  Thus, we would usually convert both to the same scale (either Celsius or Farenheit).  \n",
    "\n",
    "Taking this one step further, we typically like to adjust values so that they fall within a specific range -- which is called  _normalization_.  In many instances, these values would be normalized to the range of 0.0 to 1.0, but this does not always have to be the case.\n",
    "\n",
    "_Standardization_ typically involves rescaling data about the mean $\\mu$ and standard deviation $\\sigma$ of a set of population values."
   ]
  },
  {
   "cell_type": "markdown",
   "metadata": {},
   "source": [
    "### MIN-MAX NORMALIZATION\n",
    "\n",
    "For data values $V = (v_1, v_2, \\ldots, v_i, \\ldots, v_n)$,\n",
    "\n",
    "$$\n",
    "minmax(V, v_i) = {\n",
    "{v_i - min(V)} \\over\n",
    "{max(V) - min(V)}\n",
    "}\n",
    "$$"
   ]
  },
  {
   "cell_type": "code",
   "execution_count": 1,
   "metadata": {
    "collapsed": false
   },
   "outputs": [
    {
     "name": "stdout",
     "output_type": "stream",
     "text": [
      "[(1, 0.0), (2, 0.125), (3, 0.25), (4, 0.375), (5, 0.5), (6, 0.625), (7, 0.75), (8, 0.875), (9, 1.0)]\n"
     ]
    }
   ],
   "source": [
    "def minmax(V, v_i):\n",
    "    return \\\n",
    "        ( v_i - min(V) ) \\\n",
    "        / \\\n",
    "        (max(V) - min(V)*1.)\n",
    "\n",
    "V = xrange(1,10)\n",
    "print [(i, minmax(V, i)) for i in V]"
   ]
  },
  {
   "cell_type": "markdown",
   "metadata": {},
   "source": [
    "### Z-score STANDARDIZATION\n",
    "For normal distrubutions, Z-score normalization works well, where you know the mean $\\mu$, and standard deviation $\\sigma$, of the data population. \n",
    "\n",
    "\n",
    "$$\n",
    "v' = { { v_i - \\mu } \\over \\sigma }\n",
    "$$"
   ]
  },
  {
   "cell_type": "code",
   "execution_count": 2,
   "metadata": {
    "collapsed": false
   },
   "outputs": [],
   "source": [
    "def z_score(V, v_i):\n",
    "    \n",
    "    ## inspired by python statistics library implementations\n",
    "    def mean(V):\n",
    "        \"\"\"Return the sample arithmetic mean of data.\"\"\"\n",
    "        n = len(V)\n",
    "        if n < 1:\n",
    "            raise ValueError('mean requires at least one data point')\n",
    "        return sum(V)/float(n) \n",
    "\n",
    "    def _ss(V):\n",
    "        \"\"\"Return sum of square deviations of sequence data.\"\"\"\n",
    "        c = mean(V)\n",
    "        ss = sum((x-c)**2 for x in V)\n",
    "        return ss\n",
    "\n",
    "    def pstdev(data):\n",
    "        \"\"\"Calculates the population standard deviation.\"\"\"\n",
    "        n = len(V)\n",
    "        if n < 2:\n",
    "            raise ValueError('variance requires at least two data points')\n",
    "        ss = _ss(V)\n",
    "        pvar = ss/n # the population variance\n",
    "        return pvar**0.5\n",
    "    \n",
    "    return (v_i - mean(V)) / pstdev(V)"
   ]
  },
  {
   "cell_type": "markdown",
   "metadata": {},
   "source": [
    "**NOTE:** The mean, sum of squares and standard deviation calculations are done merely for example -- it is much better to use the [same functions provided in a library like Numpy](http://docs.scipy.org/doc/numpy/reference/routines.statistics.html) or [Scipy]()."
   ]
  },
  {
   "cell_type": "code",
   "execution_count": 3,
   "metadata": {
    "collapsed": false
   },
   "outputs": [
    {
     "name": "stdout",
     "output_type": "stream",
     "text": [
      "[(1, -1.5491933384829668), (2, -1.161895003862225), (3, -0.7745966692414834), (4, -0.3872983346207417), (5, 0.0), (6, 0.3872983346207417), (7, 0.7745966692414834), (8, 1.161895003862225), (9, 1.5491933384829668)]\n"
     ]
    }
   ],
   "source": [
    "V = xrange(1,10)\n",
    "print [(i, z_score(V, i)) for i in V]"
   ]
  }
 ],
 "metadata": {
  "anaconda-cloud": {},
  "kernelspec": {
   "display_name": "Python [Root]",
   "language": "python",
   "name": "Python [Root]"
  },
  "language_info": {
   "codemirror_mode": {
    "name": "ipython",
    "version": 2.0
   },
   "file_extension": ".py",
   "mimetype": "text/x-python",
   "name": "python",
   "nbconvert_exporter": "python",
   "pygments_lexer": "ipython2",
   "version": "2.7.12"
  }
 },
 "nbformat": 4,
 "nbformat_minor": 0
}